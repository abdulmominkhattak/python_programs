{
 "cells": [
  {
   "cell_type": "markdown",
   "metadata": {},
   "source": [
    "# Python Assignent # 1 ------AI-Q1-------\n"
   ]
  },
  {
   "cell_type": "code",
   "execution_count": 82,
   "metadata": {},
   "outputs": [
    {
     "name": "stdout",
     "output_type": "stream",
     "text": [
      "Enter Radius: 0.5\n",
      "The Area of Circle is 0.785\n"
     ]
    }
   ],
   "source": [
    "\n",
    "radius = float(input(\"Enter Radius: \"))\n",
    "pi=3.14\n",
    "area=pi*(radius*radius)\n",
    "print(\"The Area of Circle is\",area)\n"
   ]
  },
  {
   "cell_type": "markdown",
   "metadata": {},
   "source": [
    "# 2. Check number ( Positive,negative or Zero)\n"
   ]
  },
  {
   "cell_type": "code",
   "execution_count": 26,
   "metadata": {},
   "outputs": [
    {
     "name": "stdout",
     "output_type": "stream",
     "text": [
      "Enter a number: 03\n",
      "Number entered is Positive\n"
     ]
    }
   ],
   "source": [
    "anumber = float(input(\"Enter a number: \"))\n",
    "if anumber>0 :\n",
    "    print(\"Number entered is Positive\")\n",
    "elif anumber<0 :\n",
    "    print(\"Number entered is negative\")\n",
    "else :\n",
    "    print(\"Number entered is Zero\")"
   ]
  },
  {
   "cell_type": "markdown",
   "metadata": {},
   "source": [
    "# 3.Divisibility Check of two numbers\n"
   ]
  },
  {
   "cell_type": "code",
   "execution_count": 30,
   "metadata": {},
   "outputs": [
    {
     "name": "stdout",
     "output_type": "stream",
     "text": [
      "Input First Number: -3\n",
      "Input First Number: 2\n",
      "The are not completely divisible\n"
     ]
    }
   ],
   "source": [
    "num1 = int(input('Input First Number: '))\n",
    "num2 = int(input('Input First Number: '))\n",
    "if num1%num2==0 :\n",
    "    print(\"They are completely Divisible\")\n",
    "else :\n",
    "    print(\"The are not completely divisible\")"
   ]
  },
  {
   "cell_type": "markdown",
   "metadata": {},
   "source": [
    "# 5. Calculate Volume of a sphere\n"
   ]
  },
  {
   "cell_type": "code",
   "execution_count": 47,
   "metadata": {},
   "outputs": [
    {
     "name": "stdout",
     "output_type": "stream",
     "text": [
      "Enter radius of sphere: 1\n",
      "The volume of Sphere is: 4.19 \n"
     ]
    }
   ],
   "source": [
    "radius = int(input(\"Enter radius of sphere: \"))\n",
    "volume = float(4/3 * 3.1415 * (radius*radius))\n",
    "print(\"The volume of Sphere is: %.2f \"%volume)\n",
    "\n"
   ]
  },
  {
   "cell_type": "markdown",
   "metadata": {},
   "source": [
    "# 6. Copy String n times"
   ]
  },
  {
   "cell_type": "code",
   "execution_count": 69,
   "metadata": {},
   "outputs": [
    {
     "name": "stdout",
     "output_type": "stream",
     "text": [
      "Enter a string: Hi\n",
      "Enter number of time: 3\n",
      "Copies of  Hi are\n",
      "HiHiHi"
     ]
    }
   ],
   "source": [
    "astring = input(\"Enter a string: \")\n",
    "n = int(input(\"Enter number of time: \"))\n",
    "print(\"Copies of \",astring,\"are\")\n",
    "for i in range(n) :\n",
    "    print(astring,end ='')\n",
    "        \n",
    "        "
   ]
  },
  {
   "cell_type": "markdown",
   "metadata": {},
   "source": [
    "# 7.Odd/Even"
   ]
  },
  {
   "cell_type": "code",
   "execution_count": 70,
   "metadata": {},
   "outputs": [
    {
     "name": "stdout",
     "output_type": "stream",
     "text": [
      "Enter a number: 4\n",
      "Number is Even\n"
     ]
    }
   ],
   "source": [
    "anumber = float(input(\"Enter a number: \"))\n",
    "if anumber%2==0 :\n",
    "    print(\"Number is Even\")\n",
    "else :\n",
    "    print(\"Number is not Even\")"
   ]
  },
  {
   "cell_type": "markdown",
   "metadata": {},
   "source": [
    "# 8.Vowel Tester"
   ]
  },
  {
   "cell_type": "code",
   "execution_count": 80,
   "metadata": {},
   "outputs": [
    {
     "name": "stdout",
     "output_type": "stream",
     "text": [
      "Enter a number: A\n",
      "Vowel\n"
     ]
    }
   ],
   "source": [
    "achar = input(\"Enter a number: \")\n",
    "if achar =='A' or achar=='a' or achar =='E' or achar=='e' or achar =='I' or achar=='i' or achar =='O' or achar=='o' or  achar =='U' or achar=='u' :\n",
    "    print(\"Vowel\")\n",
    "    \n",
    "else :\n",
    "    print(\"Not a vowel\")"
   ]
  },
  {
   "cell_type": "markdown",
   "metadata": {},
   "source": [
    "# 9.Triangle Area"
   ]
  },
  {
   "cell_type": "code",
   "execution_count": 81,
   "metadata": {},
   "outputs": [
    {
     "name": "stdout",
     "output_type": "stream",
     "text": [
      "Enter base: 2\n",
      "Enter height: 3\n",
      "The Area of Triangle is:  3.0\n"
     ]
    }
   ],
   "source": [
    "base = int(input('Enter base: '))\n",
    "height= int(input('Enter height: '))\n",
    "area = 1/2 * (base *height)\n",
    "print(\"The Area of Triangle is: \",area)"
   ]
  },
  {
   "cell_type": "markdown",
   "metadata": {},
   "source": [
    "# 10. Interest Calculator \n"
   ]
  },
  {
   "cell_type": "code",
   "execution_count": 1,
   "metadata": {},
   "outputs": [
    {
     "name": "stdout",
     "output_type": "stream",
     "text": [
      "Enter Initial amount: 10000\n",
      "Enter interest in %: 0.1\n",
      "Enter number of years: 5\n",
      "Interest for five years will be:  5000.0\n"
     ]
    }
   ],
   "source": [
    "amount = int(input(\"Enter Initial amount: \"))\n",
    "rate = float(input (\"Enter interest in %: \"))\n",
    "duration = int(input(\"Enter number of years: \"))\n",
    "interest = (amount*rate)*duration\n",
    "print(\"Interest for five years will be: \",interest)"
   ]
  },
  {
   "cell_type": "markdown",
   "metadata": {},
   "source": [
    "# 11. Distance bw two Points\n"
   ]
  },
  {
   "cell_type": "code",
   "execution_count": 4,
   "metadata": {},
   "outputs": [
    {
     "name": "stdout",
     "output_type": "stream",
     "text": [
      "Enter X1: 2\n",
      "Enter Y1: 4\n",
      "Enter X2: 4\n",
      "Enter Y2: 4\n",
      "2.0\n"
     ]
    }
   ],
   "source": [
    "import math\n",
    "x1 = int(input(\"Enter X1: \"))\n",
    "y1 = int(input(\"Enter Y1: \"))\n",
    "x2 = int(input(\"Enter X2: \"))\n",
    "y2 = int(input(\"Enter Y2: \"))\n",
    "               \n",
    "distance = math.sqrt(math.pow(x2-x1,2) + math.pow(y2-y1,2))\n",
    "print(distance)"
   ]
  },
  {
   "cell_type": "markdown",
   "metadata": {},
   "source": [
    "# 12.\tFeet to Centimeter Converter"
   ]
  },
  {
   "cell_type": "code",
   "execution_count": 9,
   "metadata": {},
   "outputs": [
    {
     "name": "stdout",
     "output_type": "stream",
     "text": [
      "Enter number of Feet5\n",
      "5 feet is 152.4 centimeters\n"
     ]
    }
   ],
   "source": [
    "feet = int(input(\"Enter number of Feet\"))\n",
    "centi = float(feet*30.48)\n",
    "print(feet,\"feet is\",centi,\"centimeters\")"
   ]
  },
  {
   "cell_type": "markdown",
   "metadata": {},
   "source": [
    "# 13. BMI Calculator"
   ]
  },
  {
   "cell_type": "code",
   "execution_count": 14,
   "metadata": {},
   "outputs": [
    {
     "name": "stdout",
     "output_type": "stream",
     "text": [
      "Enter your height in feet: 5.8\n",
      "Enter your weight in KG: 75\n",
      "Your BMI is: 24.00\n"
     ]
    }
   ],
   "source": [
    "height = float(input(\"Enter your height in feet: \"))\n",
    "height = float(height* 0.3048 ) # converting feet to meters\n",
    "weight = float(input(\"Enter your weight in KG: \"))\n",
    "bmi = weight / (height*height)\n",
    "print(\"Your BMI is: %.2f\"%bmi)"
   ]
  },
  {
   "cell_type": "markdown",
   "metadata": {},
   "source": [
    "# 14. Sum of n Positive Integers"
   ]
  },
  {
   "cell_type": "code",
   "execution_count": 13,
   "metadata": {},
   "outputs": [
    {
     "name": "stdout",
     "output_type": "stream",
     "text": [
      "Enter n: 5\n",
      "The sum of positive integers is:  15\n"
     ]
    }
   ],
   "source": [
    "n = int(input(\"Enter n: \"))\n",
    "result=0\n",
    "for i in range(n+1):\n",
    "    result = result + i\n",
    "print(\"The sum of positive integers is: \",result)"
   ]
  },
  {
   "cell_type": "markdown",
   "metadata": {},
   "source": [
    "# 15. Digits Sum of a Number"
   ]
  },
  {
   "cell_type": "code",
   "execution_count": 27,
   "metadata": {},
   "outputs": [
    {
     "name": "stdout",
     "output_type": "stream",
     "text": [
      "Enter Number: 34545\n",
      "21.0\n"
     ]
    }
   ],
   "source": [
    "number = float(input(\"Enter Number: \"))\n",
    "sum = 0\n",
    "while(number != 0):\n",
    "    sum = sum + number%10\n",
    "    number = int(number/10)\n",
    "print(sum)"
   ]
  },
  {
   "cell_type": "markdown",
   "metadata": {},
   "source": [
    "# 16. Decimal to Binary"
   ]
  },
  {
   "cell_type": "code",
   "execution_count": 13,
   "metadata": {},
   "outputs": [
    {
     "name": "stdout",
     "output_type": "stream",
     "text": [
      "Enter a number: 344\n",
      "101011000"
     ]
    }
   ],
   "source": [
    "number = int(input(\"Enter a number: \"))\n",
    "binary = []\n",
    "while(number > 0):\n",
    "    binary.append(number%2) \n",
    "    number = int(number/2)\n",
    "list.reverse(binary)\n",
    "for e in binary:\n",
    "    print(e,end = \"\")"
   ]
  },
  {
   "cell_type": "markdown",
   "metadata": {},
   "source": [
    "# 17. Binary To decimal"
   ]
  },
  {
   "cell_type": "code",
   "execution_count": null,
   "metadata": {},
   "outputs": [],
   "source": []
  },
  {
   "cell_type": "markdown",
   "metadata": {},
   "source": [
    "# 18. Count Consonant and Vowel"
   ]
  },
  {
   "cell_type": "code",
   "execution_count": 6,
   "metadata": {},
   "outputs": [
    {
     "name": "stdout",
     "output_type": "stream",
     "text": [
      "Enter a line: Hello beautiful\n",
      "Vowel in Line are:  7  and Consonants are:  8\n"
     ]
    }
   ],
   "source": [
    "text = input(\"Enter a line: \")\n",
    "vowel = 0\n",
    "con = 0\n",
    "for i in range(len(text)):\n",
    "    if(text[i] =='A' or text[i]=='a' or text[i] =='E' or text[i]=='e' or text[i] =='I' or text[i]=='i' or text[i] =='O' or text[i]=='o' or  text[i] =='U' or text[i]=='u'):\n",
    "        vowel = vowel + 1\n",
    "    else:\n",
    "        con = con + 1\n",
    "print(\"Vowel in Line are: \",vowel,\" and Consonants are: \",con)"
   ]
  },
  {
   "cell_type": "markdown",
   "metadata": {},
   "source": [
    "# 19.\tPalindrome Tester"
   ]
  },
  {
   "cell_type": "code",
   "execution_count": 2,
   "metadata": {},
   "outputs": [
    {
     "name": "stdout",
     "output_type": "stream",
     "text": [
      "Enter a string: woW\n",
      "The word is not a Palindrome\n"
     ]
    }
   ],
   "source": [
    "string = input(\"Enter a string: \")\n",
    "reverse_string = string[::-1]\n",
    "if(string == reverse_string):\n",
    "    print(\"The Word is Palindrome\")\n",
    "else :\n",
    "    print(\"The word is not a Palindrome\")\n",
    "\n"
   ]
  },
  {
   "cell_type": "markdown",
   "metadata": {},
   "source": [
    "# 20. Count Letter and Numbers\n"
   ]
  },
  {
   "cell_type": "code",
   "execution_count": 53,
   "metadata": {},
   "outputs": [
    {
     "name": "stdout",
     "output_type": "stream",
     "text": [
      "Enter a String: Hello, How are you 1222\n",
      "Letter are  14 Number are:  4\n"
     ]
    }
   ],
   "source": [
    "import string\n",
    "astring = input(\"Enter a String: \")\n",
    "letter = 0\n",
    "num = 0\n",
    "for e in range(len(astring)):\n",
    "    for j in range(26):\n",
    "               if(astring[e] == string.ascii_lowercase[j] or astring[e] == string.ascii_uppercase[j] ):\n",
    "                letter = letter+1  \n",
    "for i in range(len(astring)):\n",
    "    if(astring[i] == '1' or astring[i]=='2' or astring[i] =='3' or astring[i]=='4' or astring[i] =='5' or astring[i]=='6' or astring[i] =='7' or astring[i]=='8' or  astring[i] =='9' or astring[i]=='0'):\n",
    "        num = num + 1\n",
    "print(\"Letter are \",letter, \"Number are: \",num)"
   ]
  },
  {
   "cell_type": "markdown",
   "metadata": {},
   "source": [
    "# 21. Pattern"
   ]
  },
  {
   "cell_type": "code",
   "execution_count": 18,
   "metadata": {},
   "outputs": [
    {
     "name": "stdout",
     "output_type": "stream",
     "text": [
      "\n",
      "*\n",
      "**\n",
      "***\n",
      "****\n",
      "*****\n",
      "****\n",
      "***\n",
      "**\n",
      "*\n"
     ]
    }
   ],
   "source": [
    " for e in range(5):\n",
    "    for i in range(e):\n",
    "        print(\"*\",end =\"\")\n",
    "    print(\"\\n\",end = \"\")\n",
    "for e in range(5,0,-1):\n",
    "    for i in range(e):\n",
    "        print(\"*\",end =\"\")\n",
    "    print(\"\\n\",end = \"\")\n",
    "        \n",
    "    "
   ]
  },
  {
   "cell_type": "markdown",
   "metadata": {},
   "source": [
    "# 22. Pattern"
   ]
  },
  {
   "cell_type": "code",
   "execution_count": 31,
   "metadata": {},
   "outputs": [
    {
     "name": "stdout",
     "output_type": "stream",
     "text": [
      "\n",
      "1\n",
      "12\n",
      "123\n",
      "1234\n",
      "123\n",
      "12\n",
      "1\n"
     ]
    }
   ],
   "source": [
    " for e in range(1,5):\n",
    "    for i in range(1,e):\n",
    "        print(i,end =\"\")\n",
    "    print(\"\\n\",end = \"\")\n",
    "for e in range(5,1,-1):\n",
    "    for i in range(1,e):\n",
    "        print(i,end =\"\")\n",
    "    print(\"\\n\",end = \"\")"
   ]
  },
  {
   "cell_type": "markdown",
   "metadata": {},
   "source": [
    "# 23. Pattern"
   ]
  },
  {
   "cell_type": "code",
   "execution_count": 36,
   "metadata": {},
   "outputs": [
    {
     "name": "stdout",
     "output_type": "stream",
     "text": [
      "1\n",
      "22\n",
      "333\n",
      "4444\n",
      "55555\n",
      "666666\n",
      "7777777\n",
      "88888888\n",
      "999999999\n"
     ]
    }
   ],
   "source": [
    " for e in range(1,10):\n",
    "    for i in range(e):\n",
    "        print(e,end =\"\")\n",
    "    print(\"\\n\",end = \"\")"
   ]
  },
  {
   "cell_type": "code",
   "execution_count": null,
   "metadata": {},
   "outputs": [],
   "source": []
  }
 ],
 "metadata": {
  "kernelspec": {
   "display_name": "Python 3",
   "language": "python",
   "name": "python3"
  },
  "language_info": {
   "codemirror_mode": {
    "name": "ipython",
    "version": 3
   },
   "file_extension": ".py",
   "mimetype": "text/x-python",
   "name": "python",
   "nbconvert_exporter": "python",
   "pygments_lexer": "ipython3",
   "version": "3.7.3"
  }
 },
 "nbformat": 4,
 "nbformat_minor": 2
}
